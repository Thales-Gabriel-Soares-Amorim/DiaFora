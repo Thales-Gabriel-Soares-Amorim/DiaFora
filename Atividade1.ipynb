{
  "nbformat": 4,
  "nbformat_minor": 0,
  "metadata": {
    "colab": {
      "provenance": [],
      "include_colab_link": true
    },
    "kernelspec": {
      "name": "python3",
      "display_name": "Python 3"
    },
    "language_info": {
      "name": "python"
    }
  },
  "cells": [
    {
      "cell_type": "markdown",
      "metadata": {
        "id": "view-in-github",
        "colab_type": "text"
      },
      "source": [
        "<a href=\"https://colab.research.google.com/github/Thales-Gabriel-Soares-Amorim/DiaFora/blob/main/Atividade1.ipynb\" target=\"_parent\"><img src=\"https://colab.research.google.com/assets/colab-badge.svg\" alt=\"Open In Colab\"/></a>"
      ]
    },
    {
      "cell_type": "code",
      "execution_count": null,
      "metadata": {
        "colab": {
          "base_uri": "https://localhost:8080/"
        },
        "id": "2WQ6w07Db6ZC",
        "outputId": "16c105c3-6cf1-4736-f343-a5c203b3fa6e"
      },
      "outputs": [
        {
          "output_type": "stream",
          "name": "stdout",
          "text": [
            "2.220446049250313e-16\n"
          ]
        }
      ],
      "source": [
        "#Precisão da Máquina\n",
        "#declarar variaveis\n",
        "a = 1;\n",
        "s = 2;\n",
        "\n",
        "#função\n",
        "while (s>1):\n",
        "  a = a/2;\n",
        "  s = 1+a;\n",
        "\n",
        "# exibir\n",
        "print(2*a);"
      ]
    },
    {
      "cell_type": "markdown",
      "source": [
        "Aluno: Thales Gabriel Soares Amorim\n",
        "Atividade referente a aula 1, sobre Erros\n",
        "Determinar a Precisão da Máquina a ser utilizada\n",
        "\n",
        "o número impresso representa o 0 da máquina, o menor número representável, mostrando o erro de arredondamento, exibindo a precisão da máquina.  "
      ],
      "metadata": {
        "id": "UxMIqbJ9cE3w"
      }
    },
    {
      "cell_type": "markdown",
      "source": [],
      "metadata": {
        "id": "3hOhJqqycNsX"
      }
    }
  ]
}